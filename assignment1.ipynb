{
 "cells": [
  {
   "cell_type": "code",
   "execution_count": 1,
   "id": "008b11dc",
   "metadata": {},
   "outputs": [
    {
     "name": "stdout",
     "output_type": "stream",
     "text": [
      "Enter a number: 4\n",
      "0\n",
      "1\n",
      "1\n",
      "2\n"
     ]
    }
   ],
   "source": [
    "#fibo\n",
    "user_num=int(input(\"Enter a number: \"))\n",
    "a=0\n",
    "b=1\n",
    "for i in range(user_num):\n",
    "    print(a)\n",
    " \n",
    "    temp=a+b   \n",
    "    a=b\n",
    "    b=temp"
   ]
  },
  {
   "cell_type": "code",
   "execution_count": 3,
   "id": "7716aa77",
   "metadata": {},
   "outputs": [
    {
     "name": "stdout",
     "output_type": "stream",
     "text": [
      "Enter the first range: 1\n",
      "Enter the second range: 30\n",
      "2\n",
      "3\n",
      "5\n",
      "7\n",
      "11\n",
      "13\n",
      "17\n",
      "19\n",
      "23\n",
      "29\n"
     ]
    }
   ],
   "source": [
    "# prime number in range\n",
    "first_num=int(input(\"Enter the first range: \"))\n",
    "second_num=int(input(\"Enter the second range: \"))\n",
    "for num in range(first_num,second_num+1):\n",
    "    count=0\n",
    "    for i in range(1,num+1):\n",
    "        if(num%i==0):\n",
    "            count+=1\n",
    "        \n",
    "    if(count==2):\n",
    "        print(num)"
   ]
  },
  {
   "cell_type": "code",
   "execution_count": 4,
   "id": "a29bdbbf",
   "metadata": {},
   "outputs": [
    {
     "name": "stdout",
     "output_type": "stream",
     "text": [
      "Enter a number: 121\n",
      "121\n",
      "The number is a palindrome\n"
     ]
    }
   ],
   "source": [
    "#palin\n",
    "user_input=int(input(\"Enter a number: \"))\n",
    "rev=0\n",
    "a=user_input\n",
    "while a!=0:\n",
    "    rem=a%10\n",
    "    rev=rev*10+rem\n",
    "    a=a//10\n",
    "print(rev)\n",
    "if user_input==rev:\n",
    "    print(\"The number is a palindrome\")"
   ]
  },
  {
   "cell_type": "code",
   "execution_count": 5,
   "id": "85c211b5",
   "metadata": {},
   "outputs": [
    {
     "name": "stdout",
     "output_type": "stream",
     "text": [
      "I have chosen a number between 1 and 100.\n",
      "Try to guess it.\n",
      "Enter your guess: 44\n",
      "Your guess is too low.\n",
      "Enter your guess: 66\n",
      "Your guess is too low.\n",
      "Enter your guess: 88\n",
      "Your guess is too high.\n",
      "Enter your guess: 77\n",
      "Your guess is too low.\n",
      "Enter your guess: 87\n",
      "Your guess is too high.\n",
      "Enter your guess: 85\n",
      "Your guess is too high.\n",
      "Enter your guess: 79\n",
      "Congratulations! You have guessed the number.\n"
     ]
    }
   ],
   "source": [
    "#number guessing\n",
    "import random\n",
    "\n",
    "def number_guessing_game():\n",
    "    secret_number = random.randint(1, 100)\n",
    "    print(\"I have chosen a number between 1 and 100.\\nTry to guess it.\")\n",
    "    while True:\n",
    "        user_guess = int(input(\"Enter your guess: \"))\n",
    "        if user_guess == secret_number:\n",
    "            print(\"Congratulations! You have guessed the number.\")\n",
    "            break\n",
    "        elif user_guess < secret_number:\n",
    "            print(\"Your guess is too low.\")\n",
    "        else:\n",
    "            print(\"Your guess is too high.\")\n",
    "number_guessing_game()"
   ]
  }
 ],
 "metadata": {
  "kernelspec": {
   "display_name": "Python 3 (ipykernel)",
   "language": "python",
   "name": "python3"
  },
  "language_info": {
   "codemirror_mode": {
    "name": "ipython",
    "version": 3
   },
   "file_extension": ".py",
   "mimetype": "text/x-python",
   "name": "python",
   "nbconvert_exporter": "python",
   "pygments_lexer": "ipython3",
   "version": "3.11.5"
  }
 },
 "nbformat": 4,
 "nbformat_minor": 5
}
